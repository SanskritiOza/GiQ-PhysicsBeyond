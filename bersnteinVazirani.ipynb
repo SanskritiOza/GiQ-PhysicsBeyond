{
  "nbformat": 4,
  "nbformat_minor": 0,
  "metadata": {
    "colab": {
      "provenance": []
    },
    "kernelspec": {
      "name": "python3",
      "display_name": "Python 3"
    },
    "language_info": {
      "name": "python"
    }
  },
  "cells": [
    {
      "cell_type": "markdown",
      "source": [
        "Let's Witness Quantum Speed\n",
        "Now, let's dive into quantum coding and witness the BV algorithm in action using Qiskit, a powerful quantum computing framework. We'll create a quantum circuit to unveil the secret string using the BV algorithm."
      ],
      "metadata": {
        "id": "_V3j78aVlxWk"
      }
    },
    {
      "cell_type": "code",
      "source": [
        "!pip install qiskit\n",
        "!pip install matplotlib\n",
        "!pip install qiskit_ibm_runtime\n",
        "!pip install pylatexenc"
      ],
      "metadata": {
        "colab": {
          "base_uri": "https://localhost:8080/"
        },
        "id": "wS0sUBD4CQ6s",
        "outputId": "0fb03cca-10e5-4f6a-89b6-083ed3abaf57"
      },
      "execution_count": null,
      "outputs": [
        {
          "output_type": "stream",
          "name": "stdout",
          "text": [
            "Collecting qiskit\n",
            "  Downloading qiskit-1.0.2-cp38-abi3-manylinux_2_17_x86_64.manylinux2014_x86_64.whl (5.6 MB)\n",
            "\u001b[2K     \u001b[90m━━━━━━━━━━━━━━━━━━━━━━━━━━━━━━━━━━━━━━━━\u001b[0m \u001b[32m5.6/5.6 MB\u001b[0m \u001b[31m14.2 MB/s\u001b[0m eta \u001b[36m0:00:00\u001b[0m\n",
            "\u001b[?25hCollecting rustworkx>=0.14.0 (from qiskit)\n",
            "  Downloading rustworkx-0.14.2-cp310-cp310-manylinux_2_17_x86_64.manylinux2014_x86_64.whl (2.1 MB)\n",
            "\u001b[2K     \u001b[90m━━━━━━━━━━━━━━━━━━━━━━━━━━━━━━━━━━━━━━━━\u001b[0m \u001b[32m2.1/2.1 MB\u001b[0m \u001b[31m25.6 MB/s\u001b[0m eta \u001b[36m0:00:00\u001b[0m\n",
            "\u001b[?25hRequirement already satisfied: numpy<2,>=1.17 in /usr/local/lib/python3.10/dist-packages (from qiskit) (1.25.2)\n",
            "Requirement already satisfied: scipy>=1.5 in /usr/local/lib/python3.10/dist-packages (from qiskit) (1.11.4)\n",
            "Requirement already satisfied: sympy>=1.3 in /usr/local/lib/python3.10/dist-packages (from qiskit) (1.12)\n",
            "Collecting dill>=0.3 (from qiskit)\n",
            "  Downloading dill-0.3.8-py3-none-any.whl (116 kB)\n",
            "\u001b[2K     \u001b[90m━━━━━━━━━━━━━━━━━━━━━━━━━━━━━━━━━━━━━━━━\u001b[0m \u001b[32m116.3/116.3 kB\u001b[0m \u001b[31m12.4 MB/s\u001b[0m eta \u001b[36m0:00:00\u001b[0m\n",
            "\u001b[?25hRequirement already satisfied: python-dateutil>=2.8.0 in /usr/local/lib/python3.10/dist-packages (from qiskit) (2.8.2)\n",
            "Collecting stevedore>=3.0.0 (from qiskit)\n",
            "  Downloading stevedore-5.2.0-py3-none-any.whl (49 kB)\n",
            "\u001b[2K     \u001b[90m━━━━━━━━━━━━━━━━━━━━━━━━━━━━━━━━━━━━━━━━\u001b[0m \u001b[32m49.7/49.7 kB\u001b[0m \u001b[31m5.6 MB/s\u001b[0m eta \u001b[36m0:00:00\u001b[0m\n",
            "\u001b[?25hRequirement already satisfied: typing-extensions in /usr/local/lib/python3.10/dist-packages (from qiskit) (4.11.0)\n",
            "Collecting symengine>=0.11 (from qiskit)\n",
            "  Downloading symengine-0.11.0-cp310-cp310-manylinux_2_12_x86_64.manylinux2010_x86_64.whl (39.4 MB)\n",
            "\u001b[2K     \u001b[90m━━━━━━━━━━━━━━━━━━━━━━━━━━━━━━━━━━━━━━━━\u001b[0m \u001b[32m39.4/39.4 MB\u001b[0m \u001b[31m11.5 MB/s\u001b[0m eta \u001b[36m0:00:00\u001b[0m\n",
            "\u001b[?25hRequirement already satisfied: six>=1.5 in /usr/local/lib/python3.10/dist-packages (from python-dateutil>=2.8.0->qiskit) (1.16.0)\n",
            "Collecting pbr!=2.1.0,>=2.0.0 (from stevedore>=3.0.0->qiskit)\n",
            "  Downloading pbr-6.0.0-py2.py3-none-any.whl (107 kB)\n",
            "\u001b[2K     \u001b[90m━━━━━━━━━━━━━━━━━━━━━━━━━━━━━━━━━━━━━━━━\u001b[0m \u001b[32m107.5/107.5 kB\u001b[0m \u001b[31m12.3 MB/s\u001b[0m eta \u001b[36m0:00:00\u001b[0m\n",
            "\u001b[?25hRequirement already satisfied: mpmath>=0.19 in /usr/local/lib/python3.10/dist-packages (from sympy>=1.3->qiskit) (1.3.0)\n",
            "Installing collected packages: symengine, rustworkx, pbr, dill, stevedore, qiskit\n",
            "Successfully installed dill-0.3.8 pbr-6.0.0 qiskit-1.0.2 rustworkx-0.14.2 stevedore-5.2.0 symengine-0.11.0\n",
            "Requirement already satisfied: matplotlib in /usr/local/lib/python3.10/dist-packages (3.7.1)\n",
            "Requirement already satisfied: contourpy>=1.0.1 in /usr/local/lib/python3.10/dist-packages (from matplotlib) (1.2.1)\n",
            "Requirement already satisfied: cycler>=0.10 in /usr/local/lib/python3.10/dist-packages (from matplotlib) (0.12.1)\n",
            "Requirement already satisfied: fonttools>=4.22.0 in /usr/local/lib/python3.10/dist-packages (from matplotlib) (4.51.0)\n",
            "Requirement already satisfied: kiwisolver>=1.0.1 in /usr/local/lib/python3.10/dist-packages (from matplotlib) (1.4.5)\n",
            "Requirement already satisfied: numpy>=1.20 in /usr/local/lib/python3.10/dist-packages (from matplotlib) (1.25.2)\n",
            "Requirement already satisfied: packaging>=20.0 in /usr/local/lib/python3.10/dist-packages (from matplotlib) (24.0)\n",
            "Requirement already satisfied: pillow>=6.2.0 in /usr/local/lib/python3.10/dist-packages (from matplotlib) (9.4.0)\n",
            "Requirement already satisfied: pyparsing>=2.3.1 in /usr/local/lib/python3.10/dist-packages (from matplotlib) (3.1.2)\n",
            "Requirement already satisfied: python-dateutil>=2.7 in /usr/local/lib/python3.10/dist-packages (from matplotlib) (2.8.2)\n",
            "Requirement already satisfied: six>=1.5 in /usr/local/lib/python3.10/dist-packages (from python-dateutil>=2.7->matplotlib) (1.16.0)\n",
            "Collecting qiskit_ibm_runtime\n",
            "  Downloading qiskit_ibm_runtime-0.23.0-py3-none-any.whl (3.0 MB)\n",
            "\u001b[2K     \u001b[90m━━━━━━━━━━━━━━━━━━━━━━━━━━━━━━━━━━━━━━━━\u001b[0m \u001b[32m3.0/3.0 MB\u001b[0m \u001b[31m11.9 MB/s\u001b[0m eta \u001b[36m0:00:00\u001b[0m\n",
            "\u001b[?25hRequirement already satisfied: requests>=2.19 in /usr/local/lib/python3.10/dist-packages (from qiskit_ibm_runtime) (2.31.0)\n",
            "Collecting requests-ntlm>=1.1.0 (from qiskit_ibm_runtime)\n",
            "  Downloading requests_ntlm-1.2.0-py3-none-any.whl (6.0 kB)\n",
            "Requirement already satisfied: numpy>=1.13 in /usr/local/lib/python3.10/dist-packages (from qiskit_ibm_runtime) (1.25.2)\n",
            "Requirement already satisfied: urllib3>=1.21.1 in /usr/local/lib/python3.10/dist-packages (from qiskit_ibm_runtime) (2.0.7)\n",
            "Requirement already satisfied: python-dateutil>=2.8.0 in /usr/local/lib/python3.10/dist-packages (from qiskit_ibm_runtime) (2.8.2)\n",
            "Requirement already satisfied: websocket-client>=1.5.1 in /usr/local/lib/python3.10/dist-packages (from qiskit_ibm_runtime) (1.7.0)\n",
            "Collecting ibm-platform-services>=0.22.6 (from qiskit_ibm_runtime)\n",
            "  Downloading ibm-platform-services-0.53.6.tar.gz (323 kB)\n",
            "\u001b[2K     \u001b[90m━━━━━━━━━━━━━━━━━━━━━━━━━━━━━━━━━━━━━━━━\u001b[0m \u001b[32m323.7/323.7 kB\u001b[0m \u001b[31m14.2 MB/s\u001b[0m eta \u001b[36m0:00:00\u001b[0m\n",
            "\u001b[?25h  Installing build dependencies ... \u001b[?25l\u001b[?25hdone\n",
            "  Getting requirements to build wheel ... \u001b[?25l\u001b[?25hdone\n",
            "  Preparing metadata (pyproject.toml) ... \u001b[?25l\u001b[?25hdone\n",
            "Requirement already satisfied: pydantic in /usr/local/lib/python3.10/dist-packages (from qiskit_ibm_runtime) (2.7.0)\n",
            "Requirement already satisfied: qiskit>=1.0.0 in /usr/local/lib/python3.10/dist-packages (from qiskit_ibm_runtime) (1.0.2)\n",
            "Collecting ibm-cloud-sdk-core<4.0.0,>=3.19.2 (from ibm-platform-services>=0.22.6->qiskit_ibm_runtime)\n",
            "  Downloading ibm-cloud-sdk-core-3.20.0.tar.gz (62 kB)\n",
            "\u001b[2K     \u001b[90m━━━━━━━━━━━━━━━━━━━━━━━━━━━━━━━━━━━━━━━━\u001b[0m \u001b[32m62.1/62.1 kB\u001b[0m \u001b[31m7.2 MB/s\u001b[0m eta \u001b[36m0:00:00\u001b[0m\n",
            "\u001b[?25h  Installing build dependencies ... \u001b[?25l\u001b[?25hdone\n",
            "  Getting requirements to build wheel ... \u001b[?25l\u001b[?25hdone\n",
            "  Preparing metadata (pyproject.toml) ... \u001b[?25l\u001b[?25hdone\n",
            "Requirement already satisfied: six>=1.5 in /usr/local/lib/python3.10/dist-packages (from python-dateutil>=2.8.0->qiskit_ibm_runtime) (1.16.0)\n",
            "Requirement already satisfied: rustworkx>=0.14.0 in /usr/local/lib/python3.10/dist-packages (from qiskit>=1.0.0->qiskit_ibm_runtime) (0.14.2)\n",
            "Requirement already satisfied: scipy>=1.5 in /usr/local/lib/python3.10/dist-packages (from qiskit>=1.0.0->qiskit_ibm_runtime) (1.11.4)\n",
            "Requirement already satisfied: sympy>=1.3 in /usr/local/lib/python3.10/dist-packages (from qiskit>=1.0.0->qiskit_ibm_runtime) (1.12)\n",
            "Requirement already satisfied: dill>=0.3 in /usr/local/lib/python3.10/dist-packages (from qiskit>=1.0.0->qiskit_ibm_runtime) (0.3.8)\n",
            "Requirement already satisfied: stevedore>=3.0.0 in /usr/local/lib/python3.10/dist-packages (from qiskit>=1.0.0->qiskit_ibm_runtime) (5.2.0)\n",
            "Requirement already satisfied: typing-extensions in /usr/local/lib/python3.10/dist-packages (from qiskit>=1.0.0->qiskit_ibm_runtime) (4.11.0)\n",
            "Requirement already satisfied: symengine>=0.11 in /usr/local/lib/python3.10/dist-packages (from qiskit>=1.0.0->qiskit_ibm_runtime) (0.11.0)\n",
            "Requirement already satisfied: charset-normalizer<4,>=2 in /usr/local/lib/python3.10/dist-packages (from requests>=2.19->qiskit_ibm_runtime) (3.3.2)\n",
            "Requirement already satisfied: idna<4,>=2.5 in /usr/local/lib/python3.10/dist-packages (from requests>=2.19->qiskit_ibm_runtime) (3.7)\n",
            "Requirement already satisfied: certifi>=2017.4.17 in /usr/local/lib/python3.10/dist-packages (from requests>=2.19->qiskit_ibm_runtime) (2024.2.2)\n",
            "Requirement already satisfied: cryptography>=1.3 in /usr/local/lib/python3.10/dist-packages (from requests-ntlm>=1.1.0->qiskit_ibm_runtime) (42.0.5)\n",
            "Collecting pyspnego>=0.1.6 (from requests-ntlm>=1.1.0->qiskit_ibm_runtime)\n",
            "  Downloading pyspnego-0.10.2-py3-none-any.whl (129 kB)\n",
            "\u001b[2K     \u001b[90m━━━━━━━━━━━━━━━━━━━━━━━━━━━━━━━━━━━━━━━━\u001b[0m \u001b[32m129.9/129.9 kB\u001b[0m \u001b[31m15.5 MB/s\u001b[0m eta \u001b[36m0:00:00\u001b[0m\n",
            "\u001b[?25hRequirement already satisfied: annotated-types>=0.4.0 in /usr/local/lib/python3.10/dist-packages (from pydantic->qiskit_ibm_runtime) (0.6.0)\n",
            "Requirement already satisfied: pydantic-core==2.18.1 in /usr/local/lib/python3.10/dist-packages (from pydantic->qiskit_ibm_runtime) (2.18.1)\n",
            "Requirement already satisfied: cffi>=1.12 in /usr/local/lib/python3.10/dist-packages (from cryptography>=1.3->requests-ntlm>=1.1.0->qiskit_ibm_runtime) (1.16.0)\n",
            "Collecting urllib3>=1.21.1 (from qiskit_ibm_runtime)\n",
            "  Downloading urllib3-2.2.1-py3-none-any.whl (121 kB)\n",
            "\u001b[2K     \u001b[90m━━━━━━━━━━━━━━━━━━━━━━━━━━━━━━━━━━━━━━━━\u001b[0m \u001b[32m121.1/121.1 kB\u001b[0m \u001b[31m12.0 MB/s\u001b[0m eta \u001b[36m0:00:00\u001b[0m\n",
            "\u001b[?25hCollecting PyJWT<3.0.0,>=2.8.0 (from ibm-cloud-sdk-core<4.0.0,>=3.19.2->ibm-platform-services>=0.22.6->qiskit_ibm_runtime)\n",
            "  Downloading PyJWT-2.8.0-py3-none-any.whl (22 kB)\n",
            "Requirement already satisfied: pbr!=2.1.0,>=2.0.0 in /usr/local/lib/python3.10/dist-packages (from stevedore>=3.0.0->qiskit>=1.0.0->qiskit_ibm_runtime) (6.0.0)\n",
            "Requirement already satisfied: mpmath>=0.19 in /usr/local/lib/python3.10/dist-packages (from sympy>=1.3->qiskit>=1.0.0->qiskit_ibm_runtime) (1.3.0)\n",
            "Requirement already satisfied: pycparser in /usr/local/lib/python3.10/dist-packages (from cffi>=1.12->cryptography>=1.3->requests-ntlm>=1.1.0->qiskit_ibm_runtime) (2.22)\n",
            "Building wheels for collected packages: ibm-platform-services, ibm-cloud-sdk-core\n",
            "  Building wheel for ibm-platform-services (pyproject.toml) ... \u001b[?25l\u001b[?25hdone\n",
            "  Created wheel for ibm-platform-services: filename=ibm_platform_services-0.53.6-py3-none-any.whl size=340124 sha256=7084e3284f9be09d5de840773bf669f32743fc62f7fb3c77c2d5d8cedc5d7dbe\n",
            "  Stored in directory: /root/.cache/pip/wheels/84/ea/c4/db9cbf7a0503ed556412eb1082a1cfdb67e030ef592bab7a29\n",
            "  Building wheel for ibm-cloud-sdk-core (pyproject.toml) ... \u001b[?25l\u001b[?25hdone\n",
            "  Created wheel for ibm-cloud-sdk-core: filename=ibm_cloud_sdk_core-3.20.0-py3-none-any.whl size=101424 sha256=3d7a3dd23c214438bac2928e5bd53891a27e95e56b5e60cef68d5dabfefb9721\n",
            "  Stored in directory: /root/.cache/pip/wheels/d0/1c/35/8ae2b2b46ca9f86d9edcc026eb0f1a5e8237b712ea3e1ba6c4\n",
            "Successfully built ibm-platform-services ibm-cloud-sdk-core\n",
            "Installing collected packages: urllib3, PyJWT, pyspnego, ibm-cloud-sdk-core, requests-ntlm, ibm-platform-services, qiskit_ibm_runtime\n",
            "  Attempting uninstall: urllib3\n",
            "    Found existing installation: urllib3 2.0.7\n",
            "    Uninstalling urllib3-2.0.7:\n",
            "      Successfully uninstalled urllib3-2.0.7\n",
            "  Attempting uninstall: PyJWT\n",
            "    Found existing installation: PyJWT 2.3.0\n",
            "    Uninstalling PyJWT-2.3.0:\n",
            "      Successfully uninstalled PyJWT-2.3.0\n",
            "Successfully installed PyJWT-2.8.0 ibm-cloud-sdk-core-3.20.0 ibm-platform-services-0.53.6 pyspnego-0.10.2 qiskit_ibm_runtime-0.23.0 requests-ntlm-1.2.0 urllib3-2.2.1\n",
            "Collecting pylatexenc\n",
            "  Downloading pylatexenc-2.10.tar.gz (162 kB)\n",
            "\u001b[2K     \u001b[90m━━━━━━━━━━━━━━━━━━━━━━━━━━━━━━━━━━━━━━━━\u001b[0m \u001b[32m162.6/162.6 kB\u001b[0m \u001b[31m3.0 MB/s\u001b[0m eta \u001b[36m0:00:00\u001b[0m\n",
            "\u001b[?25h  Preparing metadata (setup.py) ... \u001b[?25l\u001b[?25hdone\n",
            "Building wheels for collected packages: pylatexenc\n",
            "  Building wheel for pylatexenc (setup.py) ... \u001b[?25l\u001b[?25hdone\n",
            "  Created wheel for pylatexenc: filename=pylatexenc-2.10-py3-none-any.whl size=136816 sha256=b65d288f79a4c6b7b262027d19d78c6f47a9fb52b4f8b2fe411abe49201defb2\n",
            "  Stored in directory: /root/.cache/pip/wheels/d3/31/8b/e09b0386afd80cfc556c00408c9aeea5c35c4d484a9c762fd5\n",
            "Successfully built pylatexenc\n",
            "Installing collected packages: pylatexenc\n",
            "Successfully installed pylatexenc-2.10\n"
          ]
        }
      ]
    },
    {
      "cell_type": "code",
      "source": [
        "!pip install qiskit-aer"
      ],
      "metadata": {
        "colab": {
          "base_uri": "https://localhost:8080/"
        },
        "id": "ulLtoGFI4dz_",
        "outputId": "2647f291-77a3-4ebc-aecb-11b4e560e2d7"
      },
      "execution_count": null,
      "outputs": [
        {
          "output_type": "stream",
          "name": "stdout",
          "text": [
            "Collecting qiskit-aer\n",
            "  Downloading qiskit_aer-0.14.1-cp310-cp310-manylinux_2_17_x86_64.manylinux2014_x86_64.whl (12.3 MB)\n",
            "\u001b[2K     \u001b[90m━━━━━━━━━━━━━━━━━━━━━━━━━━━━━━━━━━━━━━━━\u001b[0m \u001b[32m12.3/12.3 MB\u001b[0m \u001b[31m25.5 MB/s\u001b[0m eta \u001b[36m0:00:00\u001b[0m\n",
            "\u001b[?25hRequirement already satisfied: qiskit>=0.45.0 in /usr/local/lib/python3.10/dist-packages (from qiskit-aer) (1.0.2)\n",
            "Requirement already satisfied: numpy>=1.16.3 in /usr/local/lib/python3.10/dist-packages (from qiskit-aer) (1.25.2)\n",
            "Requirement already satisfied: scipy>=1.0 in /usr/local/lib/python3.10/dist-packages (from qiskit-aer) (1.11.4)\n",
            "Requirement already satisfied: psutil>=5 in /usr/local/lib/python3.10/dist-packages (from qiskit-aer) (5.9.5)\n",
            "Requirement already satisfied: rustworkx>=0.14.0 in /usr/local/lib/python3.10/dist-packages (from qiskit>=0.45.0->qiskit-aer) (0.14.2)\n",
            "Requirement already satisfied: sympy>=1.3 in /usr/local/lib/python3.10/dist-packages (from qiskit>=0.45.0->qiskit-aer) (1.12)\n",
            "Requirement already satisfied: dill>=0.3 in /usr/local/lib/python3.10/dist-packages (from qiskit>=0.45.0->qiskit-aer) (0.3.8)\n",
            "Requirement already satisfied: python-dateutil>=2.8.0 in /usr/local/lib/python3.10/dist-packages (from qiskit>=0.45.0->qiskit-aer) (2.8.2)\n",
            "Requirement already satisfied: stevedore>=3.0.0 in /usr/local/lib/python3.10/dist-packages (from qiskit>=0.45.0->qiskit-aer) (5.2.0)\n",
            "Requirement already satisfied: typing-extensions in /usr/local/lib/python3.10/dist-packages (from qiskit>=0.45.0->qiskit-aer) (4.11.0)\n",
            "Requirement already satisfied: symengine>=0.11 in /usr/local/lib/python3.10/dist-packages (from qiskit>=0.45.0->qiskit-aer) (0.11.0)\n",
            "Requirement already satisfied: six>=1.5 in /usr/local/lib/python3.10/dist-packages (from python-dateutil>=2.8.0->qiskit>=0.45.0->qiskit-aer) (1.16.0)\n",
            "Requirement already satisfied: pbr!=2.1.0,>=2.0.0 in /usr/local/lib/python3.10/dist-packages (from stevedore>=3.0.0->qiskit>=0.45.0->qiskit-aer) (6.0.0)\n",
            "Requirement already satisfied: mpmath>=0.19 in /usr/local/lib/python3.10/dist-packages (from sympy>=1.3->qiskit>=0.45.0->qiskit-aer) (1.3.0)\n",
            "Installing collected packages: qiskit-aer\n",
            "Successfully installed qiskit-aer-0.14.1\n"
          ]
        }
      ]
    },
    {
      "cell_type": "markdown",
      "source": [
        "In this exercise, you will implement the Bernstein-Vazirani algorithm to determine a hidden binary string\n",
        "𝑠 of length\n",
        "𝑛. Follow the provided instructions to create the quantum circuit for a specific hidden string. The algorithm utilizes quantum parallelism and constructive interference to efficiently reveal the entire hidden string with just one query to the oracle function."
      ],
      "metadata": {
        "id": "q-MUfAYR0Wvk"
      }
    },
    {
      "cell_type": "markdown",
      "source": [
        "The Bernstein-Vazirani algorithm is a quantum algorithm that efficiently finds a hidden binary string\n",
        "𝑠 of length\n",
        "𝑛 using a single query to an oracle function. The algorithm is based on quantum parallelism and interference and provides a quadratic speedup compared to classical algorithms.\n",
        "\n",
        "Instructions:\n",
        "\n",
        "Input Preparation:\n",
        "Initialize a quantum circuit with\n",
        "𝑛\n",
        "+\n",
        "1\n",
        "n+1 qubits and\n",
        "𝑛\n",
        "classical bits.\n",
        "Apply Hadamard gates to all\n",
        "𝑛\n",
        " input qubits (superposition).\n",
        "Oracle Function (Hidden String Encoding):\n",
        "Construct an oracle function based on the hidden binary string\n",
        "𝑠\n",
        ".\n",
        "For each bit\n",
        "𝑠\n",
        "𝑖\n",
        "\n",
        "​\n",
        "  in the hidden string\n",
        "𝑠:\n",
        "If\n",
        "𝑠\n",
        "𝑖\n",
        "=\n",
        "′\n",
        "1\n",
        "′\n",
        "s\n",
        "i\n",
        "​\n",
        " =\n",
        "′\n",
        " 1\n",
        "′\n",
        " , apply a Controlled-NOT (CNOT) gate with the\n",
        "𝑖\n",
        "i-th input qubit as the control and the\n",
        "(\n",
        "𝑛\n",
        ")\n",
        "(n)-th target qubit.\n",
        "Final Stage:\n",
        "Apply Hadamard gates to all\n",
        "𝑛\n",
        " input qubits again (invert the superposition).\n",
        "Measure the\n",
        "𝑛\n",
        "input qubits to extract the hidden string."
      ],
      "metadata": {
        "id": "v9TM6Thx0oDU"
      }
    },
    {
      "cell_type": "code",
      "source": [
        "from qiskit import QuantumCircuit\n",
        "\n",
        "def bernstein_vazirani_algorithm(hidden_string):\n",
        "    n = len(hidden_string)\n",
        "\n",
        "    # Create a quantum circuit with n+1 qubits\n",
        "    qc = QuantumCircuit(n+1, n)\n",
        "\n",
        "    # Apply Hadamard gates to all input qubits\n",
        "    qc.h(range(n))\n",
        "\n",
        "    # Apply the oracle function based on the hidden string\n",
        "    for i in range(n):\n",
        "        if hidden_string[i] == '1':\n",
        "            qc.cx(i, n)  # Apply CNOT with input qubit i as control and target qubit n\n",
        "\n",
        "    # Apply Hadamard gates to all input qubits again\n",
        "    qc.h(range(n))\n",
        "\n",
        "    # Measure the first n qubits\n",
        "    qc.measure(range(n), range(n))\n",
        "\n",
        "    return qc\n",
        "\n",
        "# Define a hidden string (change as desired)\n",
        "hidden_string = '101010'\n",
        "\n",
        "# Create the Bernstein-Vazirani quantum circuit for the hidden string\n",
        "bv_circuit = bernstein_vazirani_algorithm(hidden_string)\n",
        "\n",
        "# Print the quantum circuit\n",
        "print(\"Bernstein-Vazirani Quantum Circuit:\")\n",
        "print(bv_circuit)\n"
      ],
      "metadata": {
        "colab": {
          "base_uri": "https://localhost:8080/"
        },
        "id": "r-cqzu3c0gek",
        "outputId": "7242ce48-d7e5-4e77-a9da-a47993d805b2"
      },
      "execution_count": null,
      "outputs": [
        {
          "output_type": "stream",
          "name": "stdout",
          "text": [
            "Bernstein-Vazirani Quantum Circuit:\n",
            "     ┌───┐     ┌───┐                     ┌─┐           \n",
            "q_0: ┤ H ├──■──┤ H ├─────────────────────┤M├───────────\n",
            "     ├───┤  │  ├───┤     ┌─┐             └╥┘           \n",
            "q_1: ┤ H ├──┼──┤ H ├─────┤M├──────────────╫────────────\n",
            "     ├───┤  │  └───┘     └╥┘┌───┐         ║      ┌─┐   \n",
            "q_2: ┤ H ├──┼─────────■───╫─┤ H ├─────────╫──────┤M├───\n",
            "     ├───┤  │  ┌───┐  │   ║ └┬─┬┘         ║      └╥┘   \n",
            "q_3: ┤ H ├──┼──┤ H ├──┼───╫──┤M├──────────╫───────╫────\n",
            "     ├───┤  │  └───┘  │   ║  └╥┘          ║ ┌───┐ ║ ┌─┐\n",
            "q_4: ┤ H ├──┼─────────┼───╫───╫───────■───╫─┤ H ├─╫─┤M├\n",
            "     ├───┤  │  ┌───┐  │   ║   ║  ┌─┐  │   ║ └───┘ ║ └╥┘\n",
            "q_5: ┤ H ├──┼──┤ H ├──┼───╫───╫──┤M├──┼───╫───────╫──╫─\n",
            "     └───┘┌─┴─┐└───┘┌─┴─┐ ║   ║  └╥┘┌─┴─┐ ║       ║  ║ \n",
            "q_6: ─────┤ X ├─────┤ X ├─╫───╫───╫─┤ X ├─╫───────╫──╫─\n",
            "          └───┘     └───┘ ║   ║   ║ └───┘ ║       ║  ║ \n",
            "c: 6/═════════════════════╩═══╩═══╩═══════╩═══════╩══╩═\n",
            "                          1   3   5       0       2  4 \n"
          ]
        }
      ]
    },
    {
      "cell_type": "markdown",
      "source": [
        "\n",
        "Bernstein-Vazirani Algorithm Implementation\n",
        "\n",
        "\n",
        "Understand and analyze the implementation of the Bernstein-Vazirani algorithm to determine a hidden binary string using a quantum circuit.\n",
        "\n",
        "\n",
        "The variable hidden_string is initialized with the value '1101', representing the binary string that is hidden and needs to be revealed using the Bernstein-Vazirani algorithm.\n",
        "Create the Bernstein-Vazirani Quantum Circuit:\n",
        "The bernstein_vazirani_algorithm function is called with the hidden_string as an input argument to generate the quantum circuit (bv_circuit).\n",
        "This function constructs a quantum circuit that implements the Bernstein-Vazirani algorithm to reveal the hidden binary string.\n",
        "Print the Quantum Circuit:\n",
        "The generated quantum circuit (bv_circuit) is printed using print(\"Bernstein-Vazirani Quantum Circuit:\") followed by print(bv_circuit).\n",
        "This allows visualization of the quantum circuit structure, including qubits, gates, and measurements, used to execute the Bernstein-Vazirani algorithm.\n",
        "\n",
        "In this exercise, we define a hidden binary string ('1101') and use the Bernstein-Vazirani algorithm to create a quantum circuit capable of revealing this hidden string. By examining the printed quantum circuit, you can observe the sequence of gates and operations employed by the algorithm to leverage quantum principles for efficiently uncovering the hidden binary string.\n",
        "\n",
        "Next Steps:\n",
        "\n",
        "Execute the code to generate the quantum circuit for the given hidden string.\n",
        "Analyze the structure of the quantum circuit to understand how the Bernstein-Vazirani algorithm is implemented.\n",
        "Experiment with different hidden binary strings to observe how the quantum circuit design varies based on the input string."
      ],
      "metadata": {
        "id": "PtsoMK2O1Awc"
      }
    },
    {
      "cell_type": "code",
      "source": [
        "# Define the hidden binary string\n",
        "hidden_string = '1101'\n",
        "\n",
        "# Create the Bernstein-Vazirani quantum circuit\n",
        "bv_circuit = bernstein_vazirani_algorithm(hidden_string)\n",
        "\n",
        "# Print the quantum circuit\n",
        "print(\"Bernstein-Vazirani Quantum Circuit:\")\n",
        "print(bv_circuit)\n"
      ],
      "metadata": {
        "colab": {
          "base_uri": "https://localhost:8080/"
        },
        "id": "RKrcVMRe3o5G",
        "outputId": "d7e25aa0-d6ca-4a30-b916-cee09978a613"
      },
      "execution_count": null,
      "outputs": [
        {
          "output_type": "stream",
          "name": "stdout",
          "text": [
            "Bernstein-Vazirani Quantum Circuit:\n",
            "     ┌───┐     ┌───┐               ┌─┐           \n",
            "q_0: ┤ H ├──■──┤ H ├───────────────┤M├───────────\n",
            "     ├───┤  │  └───┘     ┌───┐     └╥┘     ┌─┐   \n",
            "q_1: ┤ H ├──┼─────────■──┤ H ├──────╫──────┤M├───\n",
            "     ├───┤  │  ┌───┐  │  └┬─┬┘      ║      └╥┘   \n",
            "q_2: ┤ H ├──┼──┤ H ├──┼───┤M├───────╫───────╫────\n",
            "     ├───┤  │  └───┘  │   └╥┘       ║ ┌───┐ ║ ┌─┐\n",
            "q_3: ┤ H ├──┼─────────┼────╫────■───╫─┤ H ├─╫─┤M├\n",
            "     └───┘┌─┴─┐     ┌─┴─┐  ║  ┌─┴─┐ ║ └───┘ ║ └╥┘\n",
            "q_4: ─────┤ X ├─────┤ X ├──╫──┤ X ├─╫───────╫──╫─\n",
            "          └───┘     └───┘  ║  └───┘ ║       ║  ║ \n",
            "c: 4/══════════════════════╩════════╩═══════╩══╩═\n",
            "                           2        0       1  3 \n"
          ]
        }
      ]
    },
    {
      "cell_type": "markdown",
      "source": [
        "The bernstein_vazirani_algorithm function generates a quantum circuit (bv_circuit) for recovering a hidden binary string.\n",
        "It applies Hadamard gates to prepare all qubits in a superposition state.\n",
        "It applies controlled-X (CNOT) gates based on the hidden binary string to encode the information into the ancilla qubit.\n",
        "More Hadamard gates are applied to extract the hidden binary string.\n",
        "Finally, the qubits are measured to reveal the recovered binary string.\n",
        "Reconstruct the Hidden String:\n",
        "The code extracts the measured string (measured_string) from the counts obtained by executing the quantum circuit.\n",
        "The reconstructed hidden string is obtained by slicing the measured string to match the length of the original hidden string.\n",
        "The reconstructed string is compared with the actual hidden string (hidden_string) to determine if the recovery was successful.\n",
        "\n",
        "This exercise demonstrates the use of the Bernstein-Vazirani algorithm to recover a hidden binary string encoded within a quantum circuit. By analyzing the provided code and its execution, students can gain insights into how quantum algorithms leverage superposition and entanglement to efficiently solve certain computational problems, such as finding hidden patterns.\n",
        "\n",
        "Next Steps:\n",
        "\n",
        "Execute the code to observe the operation of the Bernstein-Vazirani algorithm in action.\n",
        "Experiment with different hidden binary strings (hidden_string) to understand how the recovery process varies with different inputs.\n"
      ],
      "metadata": {
        "id": "yVNxRX3B13N6"
      }
    }
  ]
}